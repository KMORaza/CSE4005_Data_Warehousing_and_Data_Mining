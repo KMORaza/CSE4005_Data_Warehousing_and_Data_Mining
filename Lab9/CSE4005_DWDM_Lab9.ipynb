{
  "nbformat": 4,
  "nbformat_minor": 0,
  "metadata": {
    "colab": {
      "provenance": []
    },
    "kernelspec": {
      "name": "python3",
      "display_name": "Python 3"
    },
    "language_info": {
      "name": "python"
    }
  },
  "cells": [
    {
      "cell_type": "markdown",
      "source": [
        "**KHAN MOHD OWAIS RAZA**\n",
        "\n",
        "**20BCD7138**\n",
        "\n",
        "*CSE4005 (Data Warehousing and Data Mining) Lab-9*"
      ],
      "metadata": {
        "id": "WXh2BcHfJv0c"
      }
    },
    {
      "cell_type": "markdown",
      "source": [
        "$(a)$ $Euclidean$ $Distance$"
      ],
      "metadata": {
        "id": "YDwTw2KKKH3G"
      }
    },
    {
      "cell_type": "code",
      "source": [
        "import math\n",
        "def euclidean_distance(point1, point2):\n",
        "    x1, y1 = point1\n",
        "    x2, y2 = point2\n",
        "    distance = math.sqrt((x2 - x1)**2 + (y2 - y1)**2)\n",
        "    return distance\n",
        "point_a = (1, 2)\n",
        "point_b = (4, 6)\n",
        "distance = euclidean_distance(point_a, point_b)\n",
        "print(f\"The Euclidean Distance between {point_a} and {point_b} = {distance}\")"
      ],
      "metadata": {
        "colab": {
          "base_uri": "https://localhost:8080/"
        },
        "id": "lemFzMoUKWKi",
        "outputId": "b802825e-dd9c-45b4-856e-fffe5753d9c5"
      },
      "execution_count": 1,
      "outputs": [
        {
          "output_type": "stream",
          "name": "stdout",
          "text": [
            "The Euclidean Distance between (1, 2) and (4, 6) = 5.0\n"
          ]
        }
      ]
    },
    {
      "cell_type": "markdown",
      "source": [
        "$(b)$ $Manhattan$ $Distance$"
      ],
      "metadata": {
        "id": "PRPUYZVRLqnv"
      }
    },
    {
      "cell_type": "code",
      "source": [
        "def manhattan_distance(point1, point2):\n",
        "    x1, y1 = point1\n",
        "    x2, y2 = point2\n",
        "    return abs(x1 - x2) + abs(y1 - y2)\n",
        "point_a = (3, 5)\n",
        "point_b = (4, 2)\n",
        "distance = manhattan_distance(point_a, point_b)\n",
        "print(f\"Manhattan Distance between {point_a} and {point_b} = {distance}\")"
      ],
      "metadata": {
        "colab": {
          "base_uri": "https://localhost:8080/"
        },
        "id": "Ev9cuJ4QLwIa",
        "outputId": "37feab89-550e-4d33-b56b-990f4d6a5de6"
      },
      "execution_count": 3,
      "outputs": [
        {
          "output_type": "stream",
          "name": "stdout",
          "text": [
            "Manhattan Distance between (3, 5) and (4, 2) = 4\n"
          ]
        }
      ]
    },
    {
      "cell_type": "markdown",
      "source": [
        "$(c)$ $Minkowski$ $Distance$"
      ],
      "metadata": {
        "id": "Y6xiaBRMMQLm"
      }
    },
    {
      "cell_type": "code",
      "source": [
        "from math import *\n",
        "from decimal import Decimal\n",
        "def p_root(value, root):\n",
        "   root_value = 1 / float(root)\n",
        "   return round (Decimal(value) **\n",
        "   Decimal(root_value), 3)\n",
        "def minkowski_distance(x, y, p_value):\n",
        "   return (p_root(sum(pow(abs(a-b), p_value)\n",
        "      for a, b in zip(x, y)), p_value))\n",
        "vector1 = [1, 3, 5, 7]\n",
        "vector2 = [2, 4, 6, 8]\n",
        "position = 3\n",
        "print(\"Minkowski distance = \",minkowski_distance(vector1, vector2, position))"
      ],
      "metadata": {
        "colab": {
          "base_uri": "https://localhost:8080/"
        },
        "id": "7bGOdA3oMYI6",
        "outputId": "29e6ec09-2778-4e3c-c468-a1163b1e565f"
      },
      "execution_count": 5,
      "outputs": [
        {
          "output_type": "stream",
          "name": "stdout",
          "text": [
            "Minkowski distance =  1.587\n"
          ]
        }
      ]
    },
    {
      "cell_type": "markdown",
      "source": [
        "$(d)$ $Cosine$ $Similarity$"
      ],
      "metadata": {
        "id": "COg8CW9gN4LP"
      }
    },
    {
      "cell_type": "code",
      "source": [
        "from sklearn.feature_extraction.text import CountVectorizer\n",
        "from sklearn.metrics.pairwise import cosine_similarity\n",
        "def calculate_cosine_similarity(documents):\n",
        "    vectorizer = CountVectorizer().fit_transform(documents)\n",
        "    similarity_matrix = cosine_similarity(vectorizer)\n",
        "    return similarity_matrix\n",
        "def main():\n",
        "    #Example documents\n",
        "    document1 = \"Oats are a type of cereal grain commonly grown for their seeds. They are a good source of dietary fiber and are often consumed as oatmeal.\"\n",
        "    document2 = \"Rye is a cereal grain that is closely related to wheat and barley. It is commonly used for flour and bread production.\"\n",
        "    document3 = \"Buckwheat is a fast-growing plant with heart-shaped leaves and small, white flowers.\"\n",
        "    documents = [document1, document2, document3]\n",
        "    similarity_matrix = calculate_cosine_similarity(documents)\n",
        "    print(\"Cosine Similarity Matrix:\")\n",
        "    print(similarity_matrix)\n",
        "if __name__ == \"__main__\":\n",
        "    main()"
      ],
      "metadata": {
        "colab": {
          "base_uri": "https://localhost:8080/"
        },
        "id": "qHequD_UOAIn",
        "outputId": "5427b374-b414-4f1f-d024-be46f3944404"
      },
      "execution_count": 7,
      "outputs": [
        {
          "output_type": "stream",
          "name": "stdout",
          "text": [
            "Cosine Similarity Matrix:\n",
            "[[1.         0.19695965 0.04902903]\n",
            " [0.19695965 1.         0.2575131 ]\n",
            " [0.04902903 0.2575131  1.        ]]\n"
          ]
        }
      ]
    },
    {
      "cell_type": "markdown",
      "source": [
        "$(e)$ $Jaccard$ $Similarity$"
      ],
      "metadata": {
        "id": "46zBsx5UPyad"
      }
    },
    {
      "cell_type": "code",
      "source": [
        "def jaccard_similarity(set1, set2):\n",
        "    intersection = len(set1.intersection(set2))\n",
        "    union = len(set1.union(set2))\n",
        "    similarity = intersection / union\n",
        "    return similarity\n",
        "set_a = {1, 2, 3, 4, 5}\n",
        "set_b = {3, 4, 5, 6, 7}\n",
        "similarity_score = jaccard_similarity(set_a, set_b)\n",
        "print(f\"Jaccard Similarity = {similarity_score}\")"
      ],
      "metadata": {
        "colab": {
          "base_uri": "https://localhost:8080/"
        },
        "id": "7OyBhTU-QIE3",
        "outputId": "8306ce2d-b1bf-43df-a322-15912e0411ce"
      },
      "execution_count": 8,
      "outputs": [
        {
          "output_type": "stream",
          "name": "stdout",
          "text": [
            "Jaccard Similarity = 0.42857142857142855\n"
          ]
        }
      ]
    },
    {
      "cell_type": "markdown",
      "source": [
        "$(f)$ $Pearson’s$ $Correlation$"
      ],
      "metadata": {
        "id": "vhLTwwdlQWAe"
      }
    },
    {
      "cell_type": "code",
      "source": [
        "import numpy as np\n",
        "from scipy.stats import pearsonr\n",
        "x = np.array([1, 2, 3, 4, 5])\n",
        "y = np.array([2, 4, 1, 5, 7])\n",
        "correlation_coefficient, p_value = pearsonr(x, y)\n",
        "print(f\"Pearson's correlation coefficient = {correlation_coefficient}\")\n",
        "print(f\"P-value = {p_value}\")"
      ],
      "metadata": {
        "colab": {
          "base_uri": "https://localhost:8080/"
        },
        "id": "vnBJUoLZQd3o",
        "outputId": "8cba41f8-c14c-4208-9e1e-319fc5a6aae8"
      },
      "execution_count": 9,
      "outputs": [
        {
          "output_type": "stream",
          "name": "stdout",
          "text": [
            "Pearson's correlation coefficient = 0.7284927963857741\n",
            "P-value = 0.16273310982429368\n"
          ]
        }
      ]
    }
  ]
}