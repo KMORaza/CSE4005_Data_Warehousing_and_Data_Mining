{
  "nbformat": 4,
  "nbformat_minor": 0,
  "metadata": {
    "colab": {
      "provenance": []
    },
    "kernelspec": {
      "name": "python3",
      "display_name": "Python 3"
    },
    "language_info": {
      "name": "python"
    }
  },
  "cells": [
    {
      "cell_type": "markdown",
      "source": [
        "Data Warehousing and Data Mining (CSE4005) Lab-3"
      ],
      "metadata": {
        "id": "iXX1nrZjOQVE"
      }
    },
    {
      "cell_type": "code",
      "source": [
        "# KHAN MOHD OWAIS RAZA\n",
        "# 20BCD7138\n",
        "\n",
        "#Q1] Import pandas under the alias pd\n",
        "import pandas as pd"
      ],
      "metadata": {
        "id": "N7mDgOhhOV2P"
      },
      "execution_count": null,
      "outputs": []
    },
    {
      "cell_type": "code",
      "source": [
        "# KHAN MOHD OWAIS RAZA\n",
        "# 20BCD7138\n",
        "\n",
        "#Q2. Print the version of pandas\n",
        "import pandas as pd\n",
        "print(\"Pandas version:\", pd.__version__)"
      ],
      "metadata": {
        "colab": {
          "base_uri": "https://localhost:8080/"
        },
        "id": "Eeqhnrk9OlVZ",
        "outputId": "727457f3-b325-4a53-996e-7c0be8e7d5d8"
      },
      "execution_count": null,
      "outputs": [
        {
          "output_type": "stream",
          "name": "stdout",
          "text": [
            "Pandas version: 1.5.3\n"
          ]
        }
      ]
    },
    {
      "cell_type": "code",
      "source": [
        "# KHAN MOHD OWAIS RAZA\n",
        "# 20BCD7138\n",
        "\n",
        "#Q3] Print out all the version information of the libraries that are required by the pandas library\n",
        "import pandas as pd\n",
        "import numpy as np\n",
        "print(\"Pandas version:\", pd.__version__)\n",
        "print(\"NumPy version:\", np.__version__)"
      ],
      "metadata": {
        "colab": {
          "base_uri": "https://localhost:8080/"
        },
        "id": "pQV8u_5LOnRU",
        "outputId": "01e31729-7e8a-484e-f55d-51f87cd55022"
      },
      "execution_count": null,
      "outputs": [
        {
          "output_type": "stream",
          "name": "stdout",
          "text": [
            "Pandas version: 1.5.3\n",
            "NumPy version: 1.23.5\n"
          ]
        }
      ]
    },
    {
      "cell_type": "code",
      "source": [
        "# KHAN MOHD OWAIS RAZA\n",
        "# 20BCD7138\n",
        "\n",
        "#Q4]Create a DataFrame df from this dictionary data which has the index labels\n",
        "import numpy as np\n",
        "import pandas as pd\n",
        "data = {'animal': ['cat', 'cat', 'snake', 'dog', 'dog', 'cat', 'snake', 'cat', 'dog', 'dog'],\n",
        "        'age': [2.5, 3, 0.5, np.nan, 5, 2, 4.5, np.nan, 7, 3],\n",
        "        'visits': [1, 3, 2, 3, 2, 3, 1, 1, 2, 1],\n",
        "        'priority': ['yes', 'yes', 'no', 'yes', 'no', 'no', 'no', 'yes', 'no', 'no']}\n",
        "labels = ['a', 'b', 'c', 'd', 'e', 'f', 'g', 'h', 'i', 'j']\n",
        "df = pd.DataFrame(data, index=labels)\n",
        "print(df)"
      ],
      "metadata": {
        "colab": {
          "base_uri": "https://localhost:8080/"
        },
        "id": "hx7P7fBkOrq7",
        "outputId": "bfeae82d-6c9a-40c4-8d57-2e95ad16414e"
      },
      "execution_count": null,
      "outputs": [
        {
          "output_type": "stream",
          "name": "stdout",
          "text": [
            "  animal  age  visits priority\n",
            "a    cat  2.5       1      yes\n",
            "b    cat  3.0       3      yes\n",
            "c  snake  0.5       2       no\n",
            "d    dog  NaN       3      yes\n",
            "e    dog  5.0       2       no\n",
            "f    cat  2.0       3       no\n",
            "g  snake  4.5       1       no\n",
            "h    cat  NaN       1      yes\n",
            "i    dog  7.0       2       no\n",
            "j    dog  3.0       1       no\n"
          ]
        }
      ]
    },
    {
      "cell_type": "code",
      "source": [
        "# KHAN MOHD OWAIS RAZA\n",
        "# 20BCD7138\n",
        "\n",
        "#Q5] Display a summary of the basic information about this DataFrame and its data\n",
        "import numpy as np\n",
        "import pandas as pd\n",
        "data = {'animal': ['cat', 'cat', 'snake', 'dog', 'dog', 'cat', 'snake', 'cat', 'dog', 'dog'],\n",
        "        'age': [2.5, 3, 0.5, np.nan, 5, 2, 4.5, np.nan, 7, 3],\n",
        "        'visits': [1, 3, 2, 3, 2, 3, 1, 1, 2, 1],\n",
        "        'priority': ['yes', 'yes', 'no', 'yes', 'no', 'no', 'no', 'yes', 'no', 'no']}\n",
        "labels = ['a', 'b', 'c', 'd', 'e', 'f', 'g', 'h', 'i', 'j']\n",
        "df = pd.DataFrame(data, index=labels)\n",
        "df.info()\n",
        "print(df.info())"
      ],
      "metadata": {
        "colab": {
          "base_uri": "https://localhost:8080/"
        },
        "id": "EtDKaYoPOvpO",
        "outputId": "774b92e9-b41e-4d1d-beca-fbbef7dd5b5f"
      },
      "execution_count": null,
      "outputs": [
        {
          "output_type": "stream",
          "name": "stdout",
          "text": [
            "<class 'pandas.core.frame.DataFrame'>\n",
            "Index: 10 entries, a to j\n",
            "Data columns (total 4 columns):\n",
            " #   Column    Non-Null Count  Dtype  \n",
            "---  ------    --------------  -----  \n",
            " 0   animal    10 non-null     object \n",
            " 1   age       8 non-null      float64\n",
            " 2   visits    10 non-null     int64  \n",
            " 3   priority  10 non-null     object \n",
            "dtypes: float64(1), int64(1), object(2)\n",
            "memory usage: 400.0+ bytes\n",
            "<class 'pandas.core.frame.DataFrame'>\n",
            "Index: 10 entries, a to j\n",
            "Data columns (total 4 columns):\n",
            " #   Column    Non-Null Count  Dtype  \n",
            "---  ------    --------------  -----  \n",
            " 0   animal    10 non-null     object \n",
            " 1   age       8 non-null      float64\n",
            " 2   visits    10 non-null     int64  \n",
            " 3   priority  10 non-null     object \n",
            "dtypes: float64(1), int64(1), object(2)\n",
            "memory usage: 400.0+ bytes\n",
            "None\n"
          ]
        }
      ]
    },
    {
      "cell_type": "code",
      "source": [
        "# KHAN MOHD OWAIS RAZA\n",
        "# 20BCD7138\n",
        "\n",
        "#Q6]  Return the first 3 rows of the DataFrame df.\n",
        "import numpy as np\n",
        "import pandas as pd\n",
        "data = {'animal': ['cat', 'cat', 'snake', 'dog', 'dog', 'cat', 'snake', 'cat', 'dog', 'dog'],\n",
        "        'age': [2.5, 3, 0.5, np.nan, 5, 2, 4.5, np.nan, 7, 3],\n",
        "        'visits': [1, 3, 2, 3, 2, 3, 1, 1, 2, 1],\n",
        "        'priority': ['yes', 'yes', 'no', 'yes', 'no', 'no', 'no', 'yes', 'no', 'no']}\n",
        "labels = ['a', 'b', 'c', 'd', 'e', 'f', 'g', 'h', 'i', 'j']\n",
        "df = pd.DataFrame(data, index=labels)\n",
        "first_3_rows = df.head(3)\n",
        "print(first_3_rows)"
      ],
      "metadata": {
        "colab": {
          "base_uri": "https://localhost:8080/"
        },
        "id": "_7qjSv1wOy2l",
        "outputId": "28a86e93-f75b-4027-877a-ff71d3a89e4b"
      },
      "execution_count": null,
      "outputs": [
        {
          "output_type": "stream",
          "name": "stdout",
          "text": [
            "  animal  age  visits priority\n",
            "a    cat  2.5       1      yes\n",
            "b    cat  3.0       3      yes\n",
            "c  snake  0.5       2       no\n"
          ]
        }
      ]
    },
    {
      "cell_type": "code",
      "source": [
        "# KHAN MOHD OWAIS RAZA\n",
        "# 20BCD7138\n",
        "\n",
        "#Q7] Select just the 'animal' and 'age' columns from the DataFrame df\n",
        "import numpy as np\n",
        "import pandas as pd\n",
        "data = {'animal': ['cat', 'cat', 'snake', 'dog', 'dog', 'cat', 'snake', 'cat', 'dog', 'dog'],\n",
        "        'age': [2.5, 3, 0.5, np.nan, 5, 2, 4.5, np.nan, 7, 3],\n",
        "        'visits': [1, 3, 2, 3, 2, 3, 1, 1, 2, 1],\n",
        "        'priority': ['yes', 'yes', 'no', 'yes', 'no', 'no', 'no', 'yes', 'no', 'no']}\n",
        "labels = ['a', 'b', 'c', 'd', 'e', 'f', 'g', 'h', 'i', 'j']\n",
        "df = pd.DataFrame(data, index=labels)\n",
        "selected_columns = df[['animal', 'age']]\n",
        "print(selected_columns)"
      ],
      "metadata": {
        "colab": {
          "base_uri": "https://localhost:8080/"
        },
        "id": "TQhGcqoeO47Y",
        "outputId": "95d8c122-0ae2-45f9-e0c6-c511d80d0478"
      },
      "execution_count": null,
      "outputs": [
        {
          "output_type": "stream",
          "name": "stdout",
          "text": [
            "  animal  age\n",
            "a    cat  2.5\n",
            "b    cat  3.0\n",
            "c  snake  0.5\n",
            "d    dog  NaN\n",
            "e    dog  5.0\n",
            "f    cat  2.0\n",
            "g  snake  4.5\n",
            "h    cat  NaN\n",
            "i    dog  7.0\n",
            "j    dog  3.0\n"
          ]
        }
      ]
    },
    {
      "cell_type": "code",
      "source": [
        "# KHAN MOHD OWAIS RAZA\n",
        "# 20BCD7138\n",
        "\n",
        "#Q8] Select the data in rows [3, 4, 8] and in columns ['animal', 'age']\n",
        "import numpy as np\n",
        "import pandas as pd\n",
        "data = {'animal': ['cat', 'cat', 'snake', 'dog', 'dog', 'cat', 'snake', 'cat', 'dog', 'dog'],\n",
        "        'age': [2.5, 3, 0.5, np.nan, 5, 2, 4.5, np.nan, 7, 3],\n",
        "        'visits': [1, 3, 2, 3, 2, 3, 1, 1, 2, 1],\n",
        "        'priority': ['yes', 'yes', 'no', 'yes', 'no', 'no', 'no', 'yes', 'no', 'no']}\n",
        "labels = ['a', 'b', 'c', 'd', 'e', 'f', 'g', 'h', 'i', 'j']\n",
        "df = pd.DataFrame(data, index=labels)\n",
        "selected_data = df.iloc[[3, 4, 8], [0, 1]]\n",
        "print(selected_data)"
      ],
      "metadata": {
        "colab": {
          "base_uri": "https://localhost:8080/"
        },
        "id": "qTxyf43pPAdn",
        "outputId": "bf4584d8-b583-41dc-82fb-ecf122bbb340"
      },
      "execution_count": null,
      "outputs": [
        {
          "output_type": "stream",
          "name": "stdout",
          "text": [
            "  animal  age\n",
            "d    dog  NaN\n",
            "e    dog  5.0\n",
            "i    dog  7.0\n"
          ]
        }
      ]
    },
    {
      "cell_type": "code",
      "source": [
        "# KHAN MOHD OWAIS RAZA\n",
        "# 20BCD7138\n",
        "\n",
        "#Q9] Select only the rows where the number of visits is greater than 3\n",
        "import numpy as np\n",
        "import pandas as pd\n",
        "data = {'animal': ['cat', 'cat', 'snake', 'dog', 'dog', 'cat', 'snake', 'cat', 'dog', 'dog'],\n",
        "        'age': [2.5, 3, 0.5, np.nan, 5, 2, 4.5, np.nan, 7, 3],\n",
        "        'visits': [1, 3, 2, 3, 2, 3, 1, 1, 2, 1],\n",
        "        'priority': ['yes', 'yes', 'no', 'yes', 'no', 'no', 'no', 'yes', 'no', 'no']}\n",
        "labels = ['a', 'b', 'c', 'd', 'e', 'f', 'g', 'h', 'i', 'j']\n",
        "df = pd.DataFrame(data, index=labels)\n",
        "selected_rows = df[df['visits'] > 3]\n",
        "print(selected_rows)"
      ],
      "metadata": {
        "colab": {
          "base_uri": "https://localhost:8080/"
        },
        "id": "kw4MTPqeQK3W",
        "outputId": "77742d06-b3d7-4cd0-c21f-82bb9bfa7216"
      },
      "execution_count": null,
      "outputs": [
        {
          "output_type": "stream",
          "name": "stdout",
          "text": [
            "Empty DataFrame\n",
            "Columns: [animal, age, visits, priority]\n",
            "Index: []\n"
          ]
        }
      ]
    },
    {
      "cell_type": "code",
      "source": [
        "# KHAN MOHD OWAIS RAZA\n",
        "# 20BCD7138\n",
        "\n",
        "#Q10] Select the rows where the age is missing, i.e. it is NaN.\n",
        "import numpy as np\n",
        "import pandas as pd\n",
        "data = {'animal': ['cat', 'cat', 'snake', 'dog', 'dog', 'cat', 'snake', 'cat', 'dog', 'dog'],\n",
        "        'age': [2.5, 3, 0.5, np.nan, 5, 2, 4.5, np.nan, 7, 3],\n",
        "        'visits': [1, 3, 2, 3, 2, 3, 1, 1, 2, 1],\n",
        "        'priority': ['yes', 'yes', 'no', 'yes', 'no', 'no', 'no', 'yes', 'no', 'no']}\n",
        "labels = ['a', 'b', 'c', 'd', 'e', 'f', 'g', 'h', 'i', 'j']\n",
        "df = pd.DataFrame(data, index=labels)\n",
        "missing_age_rows = df[pd.isna(df['age'])]\n",
        "print(missing_age_rows)"
      ],
      "metadata": {
        "colab": {
          "base_uri": "https://localhost:8080/"
        },
        "id": "LWYH5gqwQPPb",
        "outputId": "66407dda-845b-4895-8ffd-02abc59ded09"
      },
      "execution_count": null,
      "outputs": [
        {
          "output_type": "stream",
          "name": "stdout",
          "text": [
            "  animal  age  visits priority\n",
            "d    dog  NaN       3      yes\n",
            "h    cat  NaN       1      yes\n"
          ]
        }
      ]
    },
    {
      "cell_type": "code",
      "source": [
        "# KHAN MOHD OWAIS RAZA\n",
        "# 20BCD7138\n",
        "\n",
        "#Q11] Select the rows where the animal is a cat and the age is less than 3\n",
        "import numpy as np\n",
        "import pandas as pd\n",
        "data = {'animal': ['cat', 'cat', 'snake', 'dog', 'dog', 'cat', 'snake', 'cat', 'dog', 'dog'],\n",
        "        'age': [2.5, 3, 0.5, np.nan, 5, 2, 4.5, np.nan, 7, 3],\n",
        "        'visits': [1, 3, 2, 3, 2, 3, 1, 1, 2, 1],\n",
        "        'priority': ['yes', 'yes', 'no', 'yes', 'no', 'no', 'no', 'yes', 'no', 'no']}\n",
        "labels = ['a', 'b', 'c', 'd', 'e', 'f', 'g', 'h', 'i', 'j']\n",
        "df = pd.DataFrame(data, index=labels)\n",
        "selected_rows = df[(df['animal'] == 'cat') & (df['age'] < 3)]\n",
        "print(selected_rows)"
      ],
      "metadata": {
        "colab": {
          "base_uri": "https://localhost:8080/"
        },
        "id": "1IBN8XedQTzL",
        "outputId": "49be2432-dfa5-444b-f570-f7da23e784b8"
      },
      "execution_count": null,
      "outputs": [
        {
          "output_type": "stream",
          "name": "stdout",
          "text": [
            "  animal  age  visits priority\n",
            "a    cat  2.5       1      yes\n",
            "f    cat  2.0       3       no\n"
          ]
        }
      ]
    },
    {
      "cell_type": "code",
      "source": [
        "# KHAN MOHD OWAIS RAZA\n",
        "# 20BCD7138\n",
        "\n",
        "#Q12] Select the rows the age is between 2 and 4 (inclusive) import numpy as np\n",
        "import numpy as np\n",
        "import pandas as pd\n",
        "data = {'animal': ['cat', 'cat', 'snake', 'dog', 'dog', 'cat', 'snake', 'cat', 'dog', 'dog'],\n",
        "        'age': [2.5, 3, 0.5, np.nan, 5, 2, 4.5, np.nan, 7, 3],\n",
        "        'visits': [1, 3, 2, 3, 2, 3, 1, 1, 2, 1],\n",
        "        'priority': ['yes', 'yes', 'no', 'yes', 'no', 'no', 'no', 'yes', 'no', 'no']}\n",
        "labels = ['a', 'b', 'c', 'd', 'e', 'f', 'g', 'h', 'i', 'j']\n",
        "df = pd.DataFrame(data, index=labels)\n",
        "selected_rows = df[df['age'].between(2, 4, inclusive='both')]\n",
        "print(selected_rows)\n"
      ],
      "metadata": {
        "colab": {
          "base_uri": "https://localhost:8080/"
        },
        "id": "1rgxSzpDQW2l",
        "outputId": "96cdc4b1-b5d1-43b5-ed92-533367225a2f"
      },
      "execution_count": null,
      "outputs": [
        {
          "output_type": "stream",
          "name": "stdout",
          "text": [
            "  animal  age  visits priority\n",
            "a    cat  2.5       1      yes\n",
            "b    cat  3.0       3      yes\n",
            "f    cat  2.0       3       no\n",
            "j    dog  3.0       1       no\n"
          ]
        }
      ]
    },
    {
      "cell_type": "code",
      "source": [
        "# KHAN MOHD OWAIS RAZA\n",
        "# 20BCD7138\n",
        "\n",
        "#Q13] Change the age in row 'f' to 1.5\n",
        "import numpy as np\n",
        "import pandas as pd\n",
        "data = {'animal': ['cat', 'cat', 'snake', 'dog', 'dog', 'cat', 'snake', 'cat', 'dog', 'dog'],\n",
        "        'age': [2.5, 3, 0.5, np.nan, 5, 2, 4.5, np.nan, 7, 3],\n",
        "        'visits': [1, 3, 2, 3, 2, 3, 1, 1, 2, 1],\n",
        "        'priority': ['yes', 'yes', 'no', 'yes', 'no', 'no', 'no', 'yes', 'no', 'no']}\n",
        "labels = ['a', 'b', 'c', 'd', 'e', 'f', 'g', 'h', 'i', 'j']\n",
        "df = pd.DataFrame(data, index=labels)\n",
        "df.loc['f', 'age'] = 1.5\n",
        "print(df)"
      ],
      "metadata": {
        "colab": {
          "base_uri": "https://localhost:8080/"
        },
        "id": "EBoCIK6AQZbh",
        "outputId": "891f023e-72fa-4352-a817-c3d4933cb581"
      },
      "execution_count": null,
      "outputs": [
        {
          "output_type": "stream",
          "name": "stdout",
          "text": [
            "  animal  age  visits priority\n",
            "a    cat  2.5       1      yes\n",
            "b    cat  3.0       3      yes\n",
            "c  snake  0.5       2       no\n",
            "d    dog  NaN       3      yes\n",
            "e    dog  5.0       2       no\n",
            "f    cat  1.5       3       no\n",
            "g  snake  4.5       1       no\n",
            "h    cat  NaN       1      yes\n",
            "i    dog  7.0       2       no\n",
            "j    dog  3.0       1       no\n"
          ]
        }
      ]
    },
    {
      "cell_type": "code",
      "source": [
        "# KHAN MOHD OWAIS RAZA\n",
        "# 20BCD7138\n",
        "\n",
        "#Q14] Calculate the sum of all visits in df (i.e. find the total number of visits)\n",
        "import numpy as np\n",
        "import pandas as pd\n",
        "data = {'animal': ['cat', 'cat', 'snake', 'dog', 'dog', 'cat', 'snake', 'cat', 'dog', 'dog'],\n",
        "        'age': [2.5, 3, 0.5, np.nan, 5, 2, 4.5, np.nan, 7, 3],\n",
        "        'visits': [1, 3, 2, 3, 2, 3, 1, 1, 2, 1],\n",
        "        'priority': ['yes', 'yes', 'no', 'yes', 'no', 'no', 'no', 'yes', 'no', 'no']}\n",
        "labels = ['a', 'b', 'c', 'd', 'e', 'f', 'g', 'h', 'i', 'j']\n",
        "df = pd.DataFrame(data, index=labels)\n",
        "total_visits = df['visits'].sum()\n",
        "print(\"Total number of visits:\", total_visits)"
      ],
      "metadata": {
        "colab": {
          "base_uri": "https://localhost:8080/"
        },
        "id": "UQgSrkinQeRD",
        "outputId": "56064741-ffe4-42b6-f2d0-f8cbfab28c67"
      },
      "execution_count": null,
      "outputs": [
        {
          "output_type": "stream",
          "name": "stdout",
          "text": [
            "Total number of visits: 19\n"
          ]
        }
      ]
    },
    {
      "cell_type": "code",
      "source": [
        "# KHAN MOHD OWAIS RAZA\n",
        "# 20BCD7138\n",
        "\n",
        "#Q15] Calculate the mean age for each different animal in df\n",
        "import numpy as np\n",
        "import pandas as pd\n",
        "data = {'animal': ['cat', 'cat', 'snake', 'dog', 'dog', 'cat', 'snake', 'cat', 'dog', 'dog'],\n",
        "        'age': [2.5, 3, 0.5, np.nan, 5, 2, 4.5, np.nan, 7, 3],\n",
        "        'visits': [1, 3, 2, 3, 2, 3, 1, 1, 2, 1],\n",
        "        'priority': ['yes', 'yes', 'no', 'yes', 'no', 'no', 'no', 'yes', 'no', 'no']}\n",
        "labels = ['a', 'b', 'c', 'd', 'e', 'f', 'g', 'h', 'i', 'j']\n",
        "df = pd.DataFrame(data, index=labels)\n",
        "mean_age_by_animal = df.groupby('animal')['age'].mean()\n",
        "print(mean_age_by_animal)"
      ],
      "metadata": {
        "colab": {
          "base_uri": "https://localhost:8080/"
        },
        "id": "IhuCvp-jQgIn",
        "outputId": "ac9f148d-5829-4d60-cadf-20b879e0b1fc"
      },
      "execution_count": null,
      "outputs": [
        {
          "output_type": "stream",
          "name": "stdout",
          "text": [
            "animal\n",
            "cat      2.5\n",
            "dog      5.0\n",
            "snake    2.5\n",
            "Name: age, dtype: float64\n"
          ]
        }
      ]
    },
    {
      "cell_type": "code",
      "source": [
        "# KHAN MOHD OWAIS RAZA\n",
        "# 20BCD7138\n",
        "\n",
        "#Q16] Append a new row 'k' to df with your choice of values for each column. Then delete that row to return the original DataFrame\n",
        "import numpy as np\n",
        "import pandas as pd\n",
        "data = {'animal': ['cat', 'cat', 'snake', 'dog', 'dog', 'cat', 'snake', 'cat', 'dog', 'dog'],\n",
        "        'age': [2.5, 3, 0.5, np.nan, 5, 2, 4.5, np.nan, 7, 3],\n",
        "        'visits': [1, 3, 2, 3, 2, 3, 1, 1, 2, 1],\n",
        "        'priority': ['yes', 'yes', 'no', 'yes', 'no', 'no', 'no', 'yes', 'no', 'no']}\n",
        "labels = ['a', 'b', 'c', 'd', 'e', 'f', 'g', 'h', 'i', 'j']\n",
        "df = pd.DataFrame(data, index=labels)\n",
        "df.loc['k'] = ['dog', 4, 2, 'yes']\n",
        "print(\"DataFrame after appending row 'k':\")\n",
        "print(df)\n",
        "df = df.drop('k')\n",
        "print(\"\\nOriginal DataFrame after deleting row 'k':\")\n",
        "print(df)"
      ],
      "metadata": {
        "colab": {
          "base_uri": "https://localhost:8080/"
        },
        "id": "LSfViqIBQkzg",
        "outputId": "bdee69b5-fc53-4aae-9834-b902e762761d"
      },
      "execution_count": null,
      "outputs": [
        {
          "output_type": "stream",
          "name": "stdout",
          "text": [
            "DataFrame after appending row 'k':\n",
            "  animal  age  visits priority\n",
            "a    cat  2.5       1      yes\n",
            "b    cat  3.0       3      yes\n",
            "c  snake  0.5       2       no\n",
            "d    dog  NaN       3      yes\n",
            "e    dog  5.0       2       no\n",
            "f    cat  2.0       3       no\n",
            "g  snake  4.5       1       no\n",
            "h    cat  NaN       1      yes\n",
            "i    dog  7.0       2       no\n",
            "j    dog  3.0       1       no\n",
            "k    dog  4.0       2      yes\n",
            "\n",
            "Original DataFrame after deleting row 'k':\n",
            "  animal  age  visits priority\n",
            "a    cat  2.5       1      yes\n",
            "b    cat  3.0       3      yes\n",
            "c  snake  0.5       2       no\n",
            "d    dog  NaN       3      yes\n",
            "e    dog  5.0       2       no\n",
            "f    cat  2.0       3       no\n",
            "g  snake  4.5       1       no\n",
            "h    cat  NaN       1      yes\n",
            "i    dog  7.0       2       no\n",
            "j    dog  3.0       1       no\n"
          ]
        }
      ]
    },
    {
      "cell_type": "code",
      "source": [
        "# KHAN MOHD OWAIS RAZA\n",
        "# 20BCD7138\n",
        "\n",
        "#Q17] Count the number of each type of animal in df.\n",
        "import numpy as np\n",
        "import pandas as pd\n",
        "data = {'animal': ['cat', 'cat', 'snake', 'dog', 'dog', 'cat', 'snake', 'cat', 'dog', 'dog'],\n",
        "        'age': [2.5, 3, 0.5, np.nan, 5, 2, 4.5, np.nan, 7, 3],\n",
        "        'visits': [1, 3, 2, 3, 2, 3, 1, 1, 2, 1],\n",
        "        'priority': ['yes', 'yes', 'no', 'yes', 'no', 'no', 'no', 'yes', 'no', 'no']}\n",
        "labels = ['a', 'b', 'c', 'd', 'e', 'f', 'g', 'h', 'i', 'j']\n",
        "df = pd.DataFrame(data, index=labels)\n",
        "animal_counts = df['animal'].value_counts()\n",
        "print(animal_counts)"
      ],
      "metadata": {
        "colab": {
          "base_uri": "https://localhost:8080/"
        },
        "id": "qm2XOOMCQnG2",
        "outputId": "1cdc1293-4b33-472e-8ba2-4e1fd7cb593a"
      },
      "execution_count": null,
      "outputs": [
        {
          "output_type": "stream",
          "name": "stdout",
          "text": [
            "cat      4\n",
            "dog      4\n",
            "snake    2\n",
            "Name: animal, dtype: int64\n"
          ]
        }
      ]
    },
    {
      "cell_type": "code",
      "source": [
        "# KHAN MOHD OWAIS RAZA\n",
        "# 20BCD7138\n",
        "\n",
        "#Q18] Sort df first by the values in the 'age' in decending order, then by the value in the 'visits' column in ascending order\n",
        "import numpy as np\n",
        "import pandas as pd\n",
        "data = {'animal': ['cat', 'cat', 'snake', 'dog', 'dog', 'cat', 'snake', 'cat', 'dog', 'dog'],\n",
        "        'age': [2.5, 3, 0.5, np.nan, 5, 2, 4.5, np.nan, 7, 3],\n",
        "        'visits': [1, 3, 2, 3, 2, 3, 1, 1, 2, 1],\n",
        "        'priority': ['yes', 'yes', 'no', 'yes', 'no', 'no', 'no', 'yes', 'no', 'no']}\n",
        "labels = ['a', 'b', 'c', 'd', 'e', 'f', 'g', 'h', 'i', 'j']\n",
        "df = pd.DataFrame(data, index=labels)\n",
        "df_sorted = df.sort_values(by=['age', 'visits'], ascending=[False, True])\n",
        "print(df_sorted)"
      ],
      "metadata": {
        "colab": {
          "base_uri": "https://localhost:8080/"
        },
        "id": "3_z-GH2bQsxS",
        "outputId": "14cb1be1-4387-4a77-c95b-066231bf9c85"
      },
      "execution_count": null,
      "outputs": [
        {
          "output_type": "stream",
          "name": "stdout",
          "text": [
            "  animal  age  visits priority\n",
            "i    dog  7.0       2       no\n",
            "e    dog  5.0       2       no\n",
            "g  snake  4.5       1       no\n",
            "j    dog  3.0       1       no\n",
            "b    cat  3.0       3      yes\n",
            "a    cat  2.5       1      yes\n",
            "f    cat  2.0       3       no\n",
            "c  snake  0.5       2       no\n",
            "h    cat  NaN       1      yes\n",
            "d    dog  NaN       3      yes\n"
          ]
        }
      ]
    },
    {
      "cell_type": "code",
      "source": [
        "# KHAN MOHD OWAIS RAZA\n",
        "# 20BCD7138\n",
        "\n",
        "#Q19] The 'priority' column contains the values 'yes' and 'no'.\n",
        "#     Replace this column with a column of boolean values: 'yes' should be True and 'no' should be False\n",
        "import numpy as np\n",
        "import pandas as pd\n",
        "data = {'animal': ['cat', 'cat', 'snake', 'dog', 'dog', 'cat', 'snake', 'cat', 'dog', 'dog'],\n",
        "        'age': [2.5, 3, 0.5, np.nan, 5, 2, 4.5, np.nan, 7, 3],\n",
        "        'visits': [1, 3, 2, 3, 2, 3, 1, 1, 2, 1],\n",
        "        'priority': ['yes', 'yes', 'no', 'yes', 'no', 'no', 'no', 'yes', 'no', 'no']}\n",
        "labels = ['a', 'b', 'c', 'd', 'e', 'f', 'g', 'h', 'i', 'j']\n",
        "df = pd.DataFrame(data, index=labels)\n",
        "df['priority'] = df['priority'].replace({'yes': True, 'no': False})\n",
        "print(df)\n"
      ],
      "metadata": {
        "colab": {
          "base_uri": "https://localhost:8080/"
        },
        "id": "V4iNNKW8Quah",
        "outputId": "c70c66de-6d19-4815-9a54-559d39f567cd"
      },
      "execution_count": null,
      "outputs": [
        {
          "output_type": "stream",
          "name": "stdout",
          "text": [
            "  animal  age  visits  priority\n",
            "a    cat  2.5       1      True\n",
            "b    cat  3.0       3      True\n",
            "c  snake  0.5       2     False\n",
            "d    dog  NaN       3      True\n",
            "e    dog  5.0       2     False\n",
            "f    cat  2.0       3     False\n",
            "g  snake  4.5       1     False\n",
            "h    cat  NaN       1      True\n",
            "i    dog  7.0       2     False\n",
            "j    dog  3.0       1     False\n"
          ]
        }
      ]
    },
    {
      "cell_type": "code",
      "source": [
        "# KHAN MOHD OWAIS RAZA\n",
        "# 20BCD7138\n",
        "\n",
        "#Q20] In the 'animal' column, change the 'snake' entries to 'python'.\n",
        "import numpy as np\n",
        "import pandas as pd\n",
        "data = {'animal': ['cat', 'cat', 'snake', 'dog', 'dog', 'cat', 'snake', 'cat', 'dog', 'dog'],\n",
        "        'age': [2.5, 3, 0.5, np.nan, 5, 2, 4.5, np.nan, 7, 3],\n",
        "        'visits': [1, 3, 2, 3, 2, 3, 1, 1, 2, 1],\n",
        "        'priority': ['yes', 'yes', 'no', 'yes', 'no', 'no', 'no', 'yes', 'no', 'no']}\n",
        "labels = ['a', 'b', 'c', 'd', 'e', 'f', 'g', 'h', 'i', 'j']\n",
        "df = pd.DataFrame(data, index=labels)\n",
        "df['animal'] = df['animal'].replace('snake', 'python')\n",
        "print(df)"
      ],
      "metadata": {
        "colab": {
          "base_uri": "https://localhost:8080/"
        },
        "id": "TZz4KZGIQxNJ",
        "outputId": "c5e7bc51-3003-4da7-81d9-d28c37917a50"
      },
      "execution_count": null,
      "outputs": [
        {
          "output_type": "stream",
          "name": "stdout",
          "text": [
            "   animal  age  visits priority\n",
            "a     cat  2.5       1      yes\n",
            "b     cat  3.0       3      yes\n",
            "c  python  0.5       2       no\n",
            "d     dog  NaN       3      yes\n",
            "e     dog  5.0       2       no\n",
            "f     cat  2.0       3       no\n",
            "g  python  4.5       1       no\n",
            "h     cat  NaN       1      yes\n",
            "i     dog  7.0       2       no\n",
            "j     dog  3.0       1       no\n"
          ]
        }
      ]
    },
    {
      "cell_type": "code",
      "source": [
        "# KHAN MOHD OWAIS RAZA\n",
        "# 20BCD7138\n",
        "\n",
        "#Q21] For each animal type and each number of visits, find the mean age.\n",
        "#     In other words, each row is an animal, each column is a number of visits and the values are the mean ages (hint: use a pivot table).\n",
        "import numpy as np\n",
        "import pandas as pd\n",
        "data = {'animal': ['cat', 'cat', 'snake', 'dog', 'dog', 'cat', 'snake', 'cat', 'dog', 'dog'],\n",
        "        'age': [2.5, 3, 0.5, np.nan, 5, 2, 4.5, np.nan, 7, 3],\n",
        "        'visits': [1, 3, 2, 3, 2, 3, 1, 1, 2, 1],\n",
        "        'priority': ['yes', 'yes', 'no', 'yes', 'no', 'no', 'no', 'yes', 'no', 'no']}\n",
        "labels = ['a', 'b', 'c', 'd', 'e', 'f', 'g', 'h', 'i', 'j']\n",
        "df = pd.DataFrame(data, index=labels)\n",
        "pivot_table_result = df.pivot_table(values='age', index='animal', columns='visits', aggfunc='mean')\n",
        "print(pivot_table_result)\n"
      ],
      "metadata": {
        "colab": {
          "base_uri": "https://localhost:8080/"
        },
        "id": "v2_zseAHQ0dj",
        "outputId": "994a6f2d-dcce-4f7a-ccb1-83967907465a"
      },
      "execution_count": null,
      "outputs": [
        {
          "output_type": "stream",
          "name": "stdout",
          "text": [
            "visits    1    2    3\n",
            "animal               \n",
            "cat     2.5  NaN  2.5\n",
            "dog     3.0  6.0  NaN\n",
            "snake   4.5  0.5  NaN\n"
          ]
        }
      ]
    },
    {
      "cell_type": "code",
      "source": [
        "# KHAN MOHD OWAIS RAZA\n",
        "# 20BCD7138\n",
        "\n",
        "#Q22] You have a Data Frame df with a column 'A' of integers.\n",
        "#     How do you filter out rows which contain the same integer as the row immediately above?\n",
        "import pandas as pd\n",
        "df = pd.DataFrame({'A': [1, 2, 2, 3, 4, 4, 5, 6, 6]})\n",
        "filtered_df = df[df['A'] != df['A'].shift()]\n",
        "print(filtered_df)"
      ],
      "metadata": {
        "colab": {
          "base_uri": "https://localhost:8080/"
        },
        "id": "r8awz1HhQ5R-",
        "outputId": "9af60d83-8ba0-4514-c592-1e5231ef8a78"
      },
      "execution_count": null,
      "outputs": [
        {
          "output_type": "stream",
          "name": "stdout",
          "text": [
            "   A\n",
            "0  1\n",
            "1  2\n",
            "3  3\n",
            "4  4\n",
            "6  5\n",
            "7  6\n"
          ]
        }
      ]
    },
    {
      "cell_type": "code",
      "source": [
        "# KHAN MOHD OWAIS RAZA\n",
        "# 20BCD7138\n",
        "\n",
        "#Q23]\n",
        "import numpy as np\n",
        "import pandas as pd\n",
        "df = pd.DataFrame(np.random.random(size=(5, 3)))\n",
        "df_subtracted = df.sub(df.mean(axis=1), axis=0)\n",
        "print(\"Original DataFrame:\")\n",
        "print(df)\n",
        "print(\"\\nDataFrame after subtracting row mean:\")\n",
        "print(df_subtracted)\n"
      ],
      "metadata": {
        "colab": {
          "base_uri": "https://localhost:8080/"
        },
        "id": "qgS7J-rSQ6c_",
        "outputId": "b394b66b-a74f-46fe-a316-2fdcabf0c74b"
      },
      "execution_count": null,
      "outputs": [
        {
          "output_type": "stream",
          "name": "stdout",
          "text": [
            "Original DataFrame:\n",
            "          0         1         2\n",
            "0  0.580256  0.018735  0.955807\n",
            "1  0.530199  0.617688  0.756347\n",
            "2  0.554190  0.338887  0.677473\n",
            "3  0.601817  0.498469  0.954027\n",
            "4  0.877043  0.492605  0.949604\n",
            "\n",
            "DataFrame after subtracting row mean:\n",
            "          0         1         2\n",
            "0  0.061990 -0.499531  0.437541\n",
            "1 -0.104546 -0.017057  0.121602\n",
            "2  0.030673 -0.184630  0.153956\n",
            "3 -0.082954 -0.186302  0.269256\n",
            "4  0.103959 -0.280479  0.176520\n"
          ]
        }
      ]
    },
    {
      "cell_type": "code",
      "source": [
        "# KHAN MOHD OWAIS RAZA\n",
        "# 20BCD7138\n",
        "\n",
        "#Q24]\n",
        "import pandas as pd\n",
        "import numpy as np\n",
        "data = np.random.rand(5, 10)\n",
        "df = pd.DataFrame(data, columns=['A', 'B', 'C', 'D', 'E', 'F', 'G', 'H', 'I', 'J'])\n",
        "column_with_smallest_sum = df.sum().idxmin()\n",
        "print(\"Column with the smallest sum:\", column_with_smallest_sum)\n"
      ],
      "metadata": {
        "colab": {
          "base_uri": "https://localhost:8080/"
        },
        "id": "VGkvspSJQ_tN",
        "outputId": "f3d73234-1a61-4c74-fe84-f8a0af68f98a"
      },
      "execution_count": null,
      "outputs": [
        {
          "output_type": "stream",
          "name": "stdout",
          "text": [
            "Column with the smallest sum: A\n"
          ]
        }
      ]
    },
    {
      "cell_type": "code",
      "source": [
        "# KHAN MOHD OWAIS RAZA\n",
        "# 20BCD7138\n",
        "\n",
        "#Q25] How do you count how many unique rows a Data Frame has (i.e. ignore all rows that are duplicates)?\n",
        "#     As input, use a Data Frame of zeros and ones with 10 rows and 3 columns.\n",
        "import pandas as pd\n",
        "import numpy as np\n",
        "data = np.random.randint(2, size=(10, 3))\n",
        "df = pd.DataFrame(data, columns=['A', 'B', 'C'])\n",
        "unique_rows_count = len(df.drop_duplicates())\n",
        "print(\"Number of unique rows:\", unique_rows_count)"
      ],
      "metadata": {
        "colab": {
          "base_uri": "https://localhost:8080/"
        },
        "id": "hRU7mLu8RBGw",
        "outputId": "6bef51d2-8537-48f4-e35a-4a5399149a30"
      },
      "execution_count": null,
      "outputs": [
        {
          "output_type": "stream",
          "name": "stdout",
          "text": [
            "Number of unique rows: 5\n"
          ]
        }
      ]
    },
    {
      "cell_type": "code",
      "source": [
        "# KHAN MOHD OWAIS RAZA\n",
        "# 20BCD7138\n",
        "\n",
        "#Q26]\n",
        "import pandas as pd\n",
        "import numpy as np\n",
        "data = np.random.random(size=(5, 10))\n",
        "for row in data:\n",
        "    np.random.shuffle(row)\n",
        "    row[:5] = np.nan\n",
        "df = pd.DataFrame(data, columns=['a', 'b', 'c', 'd', 'e', 'f', 'g', 'h', 'i', 'j'])\n",
        "def find_third_nan_column(row):\n",
        "    nan_count = 0\n",
        "    for col, value in enumerate(row):\n",
        "        if pd.isna(value):\n",
        "            nan_count += 1\n",
        "            if nan_count == 3:\n",
        "                return df.columns[col]\n",
        "result_series = df.apply(find_third_nan_column, axis=1)\n",
        "print(result_series)"
      ],
      "metadata": {
        "colab": {
          "base_uri": "https://localhost:8080/"
        },
        "id": "lF2bH4XLRFgu",
        "outputId": "9a9dbde3-796f-4b38-aac3-98bdfa40835a"
      },
      "execution_count": null,
      "outputs": [
        {
          "output_type": "stream",
          "name": "stdout",
          "text": [
            "0    c\n",
            "1    c\n",
            "2    c\n",
            "3    c\n",
            "4    c\n",
            "dtype: object\n"
          ]
        }
      ]
    },
    {
      "cell_type": "code",
      "source": [
        "# KHAN MOHD OWAIS RAZA\n",
        "# 20BCD7138\n",
        "\n",
        "#Q27]\n",
        "import pandas as pd\n",
        "import numpy as np\n",
        "data = {'grps': ['A', 'A', 'A', 'B', 'B', 'C', 'C', 'C'],\n",
        "        'vals': [10, 8, 7, 4, 6, 3, 2, 1]}\n",
        "df = pd.DataFrame(data)\n",
        "def sum_of_three_greatest(group):\n",
        "    sorted_values = group['vals'].sort_values(ascending=False)\n",
        "    return sorted_values.head(3).sum()\n",
        "result = df.groupby('grps').apply(sum_of_three_greatest)\n",
        "print(result)"
      ],
      "metadata": {
        "colab": {
          "base_uri": "https://localhost:8080/"
        },
        "id": "YwVr32V9RLoz",
        "outputId": "def86981-4599-466a-9a9d-1e8ef48c7078"
      },
      "execution_count": null,
      "outputs": [
        {
          "output_type": "stream",
          "name": "stdout",
          "text": [
            "grps\n",
            "A    25\n",
            "B    10\n",
            "C     6\n",
            "dtype: int64\n"
          ]
        }
      ]
    },
    {
      "cell_type": "code",
      "source": [
        "# KHAN MOHD OWAIS RAZA\n",
        "# 20BCD7138\n",
        "\n",
        "#Q28]\n",
        "import pandas as pd\n",
        "import numpy as np\n",
        "data = {'A': np.random.randint(1, 101, size=1000),\n",
        "        'B': np.random.random(size=1000)}\n",
        "df = pd.DataFrame(data)\n",
        "bin_edges = np.arange(0, 101, 10)\n",
        "df['group'] = pd.cut(df['A'], bins=bin_edges, labels=False)\n",
        "result = df.groupby('group')['B'].sum()\n",
        "print(result)"
      ],
      "metadata": {
        "id": "r0WcqYiKROku",
        "outputId": "8546cd74-935d-43d0-e7af-b8a153a30936",
        "colab": {
          "base_uri": "https://localhost:8080/"
        }
      },
      "execution_count": null,
      "outputs": [
        {
          "output_type": "stream",
          "name": "stdout",
          "text": [
            "group\n",
            "0    51.212732\n",
            "1    49.918614\n",
            "2    53.622946\n",
            "3    47.009642\n",
            "4    46.745407\n",
            "5    42.669731\n",
            "6    47.532560\n",
            "7    60.656670\n",
            "8    52.987179\n",
            "9    45.638775\n",
            "Name: B, dtype: float64\n"
          ]
        }
      ]
    }
  ]
}