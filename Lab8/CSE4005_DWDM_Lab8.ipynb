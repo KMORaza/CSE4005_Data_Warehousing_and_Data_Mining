{
  "nbformat": 4,
  "nbformat_minor": 0,
  "metadata": {
    "colab": {
      "provenance": []
    },
    "kernelspec": {
      "name": "python3",
      "display_name": "Python 3"
    },
    "language_info": {
      "name": "python"
    }
  },
  "cells": [
    {
      "cell_type": "markdown",
      "source": [
        "**KHAN MOHD OWAIS RAZA**\n",
        "\n",
        "**20BCD7138**"
      ],
      "metadata": {
        "id": "Jz-daJGQBAcE"
      }
    },
    {
      "cell_type": "markdown",
      "source": [
        "*CSE4005 (Data Warehousing and Data Mining) Lab-8*"
      ],
      "metadata": {
        "id": "kYWncqTHBFBt"
      }
    },
    {
      "cell_type": "code",
      "source": [
        "import pandas as pd\n",
        "import numpy as np"
      ],
      "metadata": {
        "id": "gUYWed6VDk2w"
      },
      "execution_count": 9,
      "outputs": []
    },
    {
      "cell_type": "code",
      "source": [
        "def calculate_entropy(data):\n",
        "    class_labels = data.iloc[:, -1]\n",
        "    unique_labels, counts = np.unique(class_labels, return_counts=True)\n",
        "    probabilities = counts / len(class_labels)\n",
        "    entropy = -np.sum(probabilities * np.log2(probabilities))\n",
        "    return entropy"
      ],
      "metadata": {
        "id": "gVKB2IBYDnV3"
      },
      "execution_count": 10,
      "outputs": []
    },
    {
      "cell_type": "code",
      "source": [
        "def information_gain(data, attribute):\n",
        "    total_entropy = calculate_entropy(data)\n",
        "    values, counts = np.unique(data[attribute], return_counts=True)\n",
        "    weighted_entropy = 0\n",
        "    for value, count in zip(values, counts):\n",
        "        subset = data[data[attribute] == value]\n",
        "        subset_entropy = calculate_entropy(subset)\n",
        "        weighted_entropy += (count / len(data)) * subset_entropy\n",
        "    info_gain = total_entropy - weighted_entropy\n",
        "    return info_gain"
      ],
      "metadata": {
        "id": "_lqmSA4zDqnm"
      },
      "execution_count": 11,
      "outputs": []
    },
    {
      "cell_type": "code",
      "source": [
        "def calculate_gini_index(data):\n",
        "    class_labels = data.iloc[:, -1]\n",
        "    unique_labels, counts = np.unique(class_labels, return_counts=True)\n",
        "    probabilities = counts / len(class_labels)\n",
        "    gini_index = 1 - np.sum(probabilities ** 2)\n",
        "    return gini_index"
      ],
      "metadata": {
        "id": "BBYWuzDeDukE"
      },
      "execution_count": 12,
      "outputs": []
    },
    {
      "cell_type": "code",
      "source": [
        "def gini_index(data, attribute):\n",
        "    values, counts = np.unique(data[attribute], return_counts=True)\n",
        "    weighted_gini = 0\n",
        "    for value, count in zip(values, counts):\n",
        "        subset = data[data[attribute] == value]\n",
        "        subset_gini = calculate_gini_index(subset)\n",
        "        weighted_gini += (count / len(data)) * subset_gini\n",
        "    return weighted_gini"
      ],
      "metadata": {
        "id": "JSmzamsADwP2"
      },
      "execution_count": 14,
      "outputs": []
    },
    {
      "cell_type": "code",
      "source": [
        "def find_best_split(data, measure):\n",
        "    attributes = data.columns[:-1]\n",
        "    best_split = None\n",
        "    best_value = None\n",
        "    for attribute in attributes:\n",
        "        values = data[attribute].unique()\n",
        "        for value in values:\n",
        "            subset = data[data[attribute] == value]\n",
        "            remaining_data = data[data[attribute] != value]\n",
        "            if measure == 'info_gain':\n",
        "                current_measure = information_gain(data, attribute)\n",
        "            elif measure == 'gini_index':\n",
        "                current_measure = gini_index(data, attribute)\n",
        "            else:\n",
        "                raise ValueError(\"Invalid measure. Use 'info_gain' or 'gini_index'.\")\n",
        "            if best_split is None or current_measure > best_split:\n",
        "                best_split = current_measure\n",
        "                best_value = value\n",
        "    return best_split, best_value"
      ],
      "metadata": {
        "id": "hV4zRkDXD3GR"
      },
      "execution_count": 15,
      "outputs": []
    },
    {
      "cell_type": "code",
      "source": [
        "tennis_data = pd.read_csv('PlayTennis.csv')\n",
        "print(\"Information Gain:\")\n",
        "info_gain_value, split_value = find_best_split(tennis_data, 'info_gain')\n",
        "print(f\"Best Splitting Attribute: {split_value}, Information Gain: {info_gain_value}\")"
      ],
      "metadata": {
        "colab": {
          "base_uri": "https://localhost:8080/"
        },
        "id": "uongr_B4D97J",
        "outputId": "ec6e6ed8-e581-47bb-bd94-3776b48be3ef"
      },
      "execution_count": 17,
      "outputs": [
        {
          "output_type": "stream",
          "name": "stdout",
          "text": [
            "Information Gain:\n",
            "Best Splitting Attribute: Sunny, Information Gain: 0.24674981977443933\n"
          ]
        }
      ]
    },
    {
      "cell_type": "code",
      "source": [
        "print(\"\\nGini Index:\")\n",
        "gini_value, split_value = find_best_split(tennis_data, 'gini_index')\n",
        "print(f\"Best Splitting Attribute: {split_value}, Gini Index: {gini_value}\")"
      ],
      "metadata": {
        "colab": {
          "base_uri": "https://localhost:8080/"
        },
        "id": "jJz_PZ2LEF19",
        "outputId": "b21e9abc-e5c1-4091-c838-7b275338117d"
      },
      "execution_count": 18,
      "outputs": [
        {
          "output_type": "stream",
          "name": "stdout",
          "text": [
            "\n",
            "Gini Index:\n",
            "Best Splitting Attribute: Hot, Gini Index: 0.44047619047619047\n"
          ]
        }
      ]
    },
    {
      "cell_type": "code",
      "source": [
        "iris_data = pd.read_csv('iris.csv')\n",
        "print(\"\\nInformation Gain:\")\n",
        "info_gain_value, split_value = find_best_split(iris_data, 'info_gain')\n",
        "print(f\"Best Splitting Attribute: {split_value}, Information Gain: {info_gain_value}\")"
      ],
      "metadata": {
        "colab": {
          "base_uri": "https://localhost:8080/"
        },
        "id": "h6AGFuc1EJnj",
        "outputId": "39a98ca9-6671-4cd4-cad1-8b3d8b0ad730"
      },
      "execution_count": 19,
      "outputs": [
        {
          "output_type": "stream",
          "name": "stdout",
          "text": [
            "\n",
            "Information Gain:\n",
            "Best Splitting Attribute: 1.4, Information Gain: 1.4463165236458\n"
          ]
        }
      ]
    },
    {
      "cell_type": "code",
      "source": [
        "print(\"\\nGini Index:\")\n",
        "gini_value, split_value = find_best_split(iris_data, 'gini_index')\n",
        "print(f\"Best Splitting Attribute: {split_value}, Gini Index: {gini_value}\")"
      ],
      "metadata": {
        "colab": {
          "base_uri": "https://localhost:8080/"
        },
        "id": "Yd8xjGcIEQpK",
        "outputId": "ed2570e1-3af9-444c-c018-17865f533fa7"
      },
      "execution_count": 20,
      "outputs": [
        {
          "output_type": "stream",
          "name": "stdout",
          "text": [
            "\n",
            "Gini Index:\n",
            "Best Splitting Attribute: 3.5, Gini Index: 0.46767491767491765\n"
          ]
        }
      ]
    }
  ]
}