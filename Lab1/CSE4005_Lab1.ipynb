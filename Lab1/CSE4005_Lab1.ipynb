{
  "nbformat": 4,
  "nbformat_minor": 0,
  "metadata": {
    "colab": {
      "provenance": []
    },
    "kernelspec": {
      "name": "python3",
      "display_name": "Python 3"
    },
    "language_info": {
      "name": "python"
    }
  },
  "cells": [
    {
      "cell_type": "markdown",
      "source": [
        "Data Warehousing and Data Mining (CSE4005) Lab-1\n"
      ],
      "metadata": {
        "id": "7AANkkBHLnW9"
      }
    },
    {
      "cell_type": "code",
      "source": [
        "# KHAN MOHD OWAIS RAZA\n",
        "# 20BCD7138\n",
        "# CSE4005 Lab-1, Q1\n",
        "def calculate_income_tax(salary):\n",
        "    if salary <= 500000:\n",
        "        tax = 0\n",
        "    elif salary <= 750000:\n",
        "        tax = (salary - 500000) * 0.10\n",
        "    elif salary <= 1000000:\n",
        "        tax = 250000 * 0.10 + (salary - 750000) * 0.20\n",
        "    else:\n",
        "        tax = 250000 * 0.10 + 250000 * 0.20 + (salary - 1000000) * 0.30\n",
        "    return tax\n",
        "user_salary = int(input(\"Enter user's salary: \"))\n",
        "income_tax = calculate_income_tax(user_salary)\n",
        "print(f'Tax to be paid: {income_tax}')"
      ],
      "metadata": {
        "colab": {
          "base_uri": "https://localhost:8080/"
        },
        "id": "yXfBVt8bKXy9",
        "outputId": "21e5907f-dc05-4e9a-b7b8-2e392a14ace5"
      },
      "execution_count": 11,
      "outputs": [
        {
          "output_type": "stream",
          "name": "stdout",
          "text": [
            "Enter user's salary: 2500000\n",
            "Tax to be paid: 525000.0\n"
          ]
        }
      ]
    },
    {
      "cell_type": "code",
      "source": [
        "# KHAN MOHD OWAIS RAZA\n",
        "# 20BCD7138\n",
        "# CSE4005 Lab-1, Q2\n",
        "def reverse_digits(integer):\n",
        "    reversed_str = str(integer)[::-1]\n",
        "    for digit in reversed_str:\n",
        "        print(digit, end=\" \")\n",
        "given_integer = 7536\n",
        "reverse_digits(given_integer)"
      ],
      "metadata": {
        "colab": {
          "base_uri": "https://localhost:8080/"
        },
        "id": "Ha4Msb-EKyPN",
        "outputId": "70fca42f-26eb-411e-ee9d-ad2f54ab1523"
      },
      "execution_count": 12,
      "outputs": [
        {
          "output_type": "stream",
          "name": "stdout",
          "text": [
            "6 3 5 7 "
          ]
        }
      ]
    },
    {
      "cell_type": "code",
      "source": [
        "# KHAN MOHD OWAIS RAZA\n",
        "# 20BCD7138\n",
        "# CSE4005 Lab-1, Q3\n",
        "num_elements = int(input(\"Enter the number of elements in the list: \"))\n",
        "list1 = []\n",
        "for i in range(num_elements):\n",
        "    element = int(input(f\"Enter the {i}th element: \"))\n",
        "    list1.append(element)\n",
        "result = []\n",
        "for number in list1:\n",
        "    if number % 5 == 0:\n",
        "        result.append(number)\n",
        "        if number > 150:\n",
        "            break\n",
        "print(\"The elements are:\", \" \".join(map(str, result)))\n"
      ],
      "metadata": {
        "colab": {
          "base_uri": "https://localhost:8080/"
        },
        "id": "oVJD-SXnK5cc",
        "outputId": "50ec2d87-5118-4a1c-f5bc-6d07c84152ff"
      },
      "execution_count": 13,
      "outputs": [
        {
          "output_type": "stream",
          "name": "stdout",
          "text": [
            "Enter the number of elements in the list: 11\n",
            "Enter the 0th element: 12\n",
            "Enter the 1th element: 15\n",
            "Enter the 2th element: 32\n",
            "Enter the 3th element: 42\n",
            "Enter the 4th element: 55\n",
            "Enter the 5th element: 75\n",
            "Enter the 6th element: 122\n",
            "Enter the 7th element: 132\n",
            "Enter the 8th element: 150\n",
            "Enter the 9th element: 180\n",
            "Enter the 10th element: 200\n",
            "The elements are: 15 55 75 150 180\n"
          ]
        }
      ]
    },
    {
      "cell_type": "code",
      "source": [
        "# KHAN MOHD OWAIS RAZA\n",
        "# 20BCD7138\n",
        "# CSE4005 Lab-1, Q4\n",
        "def count_characters(str1):\n",
        "    chars_count = digits_count = symbols_count = 0\n",
        "    for char in str1:\n",
        "        if char.isalpha():\n",
        "            if char.islower():\n",
        "                chars_count += 1\n",
        "            elif char.isupper():\n",
        "                chars_count += 1\n",
        "        elif char.isdigit():\n",
        "            digits_count += 1\n",
        "        else:\n",
        "            symbols_count += 1\n",
        "    return chars_count, digits_count, symbols_count\n",
        "str1 = \"P@#yn26at^&i5ve\"\n",
        "chars, digits, symbols = count_characters(str1)\n",
        "print(\"Total counts of chars, digits and symbols:\")\n",
        "print(f\"Chars = {chars}\")\n",
        "print(f\"Digits = {digits}\")\n",
        "print(f\"Symbol = {symbols}\")"
      ],
      "metadata": {
        "colab": {
          "base_uri": "https://localhost:8080/"
        },
        "id": "ikhHEBJJLKCx",
        "outputId": "ab4f36db-ffab-4f01-baa5-87ea44cae394"
      },
      "execution_count": 14,
      "outputs": [
        {
          "output_type": "stream",
          "name": "stdout",
          "text": [
            "Total counts of chars, digits and symbols:\n",
            "Chars = 8\n",
            "Digits = 3\n",
            "Symbol = 4\n"
          ]
        }
      ]
    },
    {
      "cell_type": "code",
      "source": [
        "# KHAN MOHD OWAIS RAZA\n",
        "# 20BCD7138\n",
        "# CSE4005 Lab-1, Q5\n",
        "def calculate_sum_and_average(str1):\n",
        "    digits = [int(char) for char in str1 if char.isdigit()]\n",
        "    if digits:\n",
        "        total_sum = sum(digits)\n",
        "        average = total_sum / len(digits)\n",
        "        return total_sum, average\n",
        "    else:\n",
        "        return 0, 0\n",
        "str1 = \"English = 78 Science = 83 Math = 68 History = 65\"\n",
        "total_sum, average = calculate_sum_and_average(str1)\n",
        "print(f\"Sum is {total_sum} and average is {average}\")"
      ],
      "metadata": {
        "colab": {
          "base_uri": "https://localhost:8080/"
        },
        "id": "qGgCtjjYLOwF",
        "outputId": "690e7c4b-39a8-4a84-f870-e444b3d57b97"
      },
      "execution_count": 15,
      "outputs": [
        {
          "output_type": "stream",
          "name": "stdout",
          "text": [
            "Sum is 51 and average is 6.375\n"
          ]
        }
      ]
    },
    {
      "cell_type": "code",
      "source": [
        "# KHAN MOHD OWAIS RAZA\n",
        "# 20BCD7138\n",
        "# CSE4005 Lab-1, Q6\n",
        "def create_third_list(listOne, listTwo):\n",
        "    odd_elements_list_one = [listOne[i] for i in range(1, len(listOne), 2)]\n",
        "    even_elements_list_two = [listTwo[i] for i in range(0, len(listTwo), 2)]\n",
        "    third_list = odd_elements_list_one + even_elements_list_two\n",
        "    return odd_elements_list_one, even_elements_list_two, third_list\n",
        "listOne = [3, 6, 9, 12, 15, 18, 21]\n",
        "listTwo = [4, 8, 12, 16, 20, 24, 28]\n",
        "odd_elements, even_elements, third_list = create_third_list(listOne, listTwo)\n",
        "print(f\"Element at odd-index positions from list one: {odd_elements}\")\n",
        "print(f\"Element at even-index positions from list two: {even_elements}\")\n",
        "print(f\"Printing Final third list: {third_list}\")"
      ],
      "metadata": {
        "colab": {
          "base_uri": "https://localhost:8080/"
        },
        "id": "J0FDOGvZLRdh",
        "outputId": "87567ea4-9b01-49af-a423-90ea251f4969"
      },
      "execution_count": 16,
      "outputs": [
        {
          "output_type": "stream",
          "name": "stdout",
          "text": [
            "Element at odd-index positions from list one: [6, 12, 18]\n",
            "Element at even-index positions from list two: [4, 12, 20, 28]\n",
            "Printing Final third list: [6, 12, 18, 4, 12, 20, 28]\n"
          ]
        }
      ]
    },
    {
      "cell_type": "code",
      "source": [
        "# KHAN MOHD OWAIS RAZA\n",
        "# 20BCD7138\n",
        "# CSE4005 Lab-1, Q7\n",
        "# Given lists\n",
        "first_list = [2, 3, 4, 5, 6, 7, 8]\n",
        "second_list = [4, 9, 16, 25, 36, 49, 64]\n",
        "result_set = set(zip(first_list, second_list))\n",
        "print(\"First List\", first_list)\n",
        "print(\"Second List\", second_list)\n",
        "print(\"Result is\", result_set)"
      ],
      "metadata": {
        "colab": {
          "base_uri": "https://localhost:8080/"
        },
        "id": "ZKMOBojjLUs4",
        "outputId": "f9dc9d44-5c70-4bc8-c419-3284efe24fdb"
      },
      "execution_count": 17,
      "outputs": [
        {
          "output_type": "stream",
          "name": "stdout",
          "text": [
            "First List [2, 3, 4, 5, 6, 7, 8]\n",
            "Second List [4, 9, 16, 25, 36, 49, 64]\n",
            "Result is {(7, 49), (2, 4), (4, 16), (8, 64), (6, 36), (3, 9), (5, 25)}\n"
          ]
        }
      ]
    },
    {
      "cell_type": "code",
      "source": [
        "# KHAN MOHD OWAIS RAZA\n",
        "# 20BCD7138\n",
        "# CSE4005 Lab-1, Q8\n",
        "speed = {'Jan': 47,\n",
        "         'Feb': 52,\n",
        "         'March': 47,\n",
        "         'April': 44,\n",
        "         'May': 52,\n",
        "         'June': 53,\n",
        "         'July': 54,\n",
        "         'Aug': 44,\n",
        "         'Sept': 54}\n",
        "unique_values = list(set(speed.values()))\n",
        "print(\"Expected Outcome:\", unique_values)"
      ],
      "metadata": {
        "colab": {
          "base_uri": "https://localhost:8080/"
        },
        "id": "mL1QIkzHLX9E",
        "outputId": "bb2f328a-c3fc-4aeb-c0a3-3f704071cd4b"
      },
      "execution_count": 18,
      "outputs": [
        {
          "output_type": "stream",
          "name": "stdout",
          "text": [
            "Expected Outcome: [44, 47, 52, 53, 54]\n"
          ]
        }
      ]
    },
    {
      "cell_type": "code",
      "source": [
        "# KHAN MOHD OWAIS RAZA\n",
        "# 20BCD7138\n",
        "# CSE4005 Lab-1, Q9\n",
        "sampleList = [87, 45, 41, 65, 94, 41, 99, 94]\n",
        "unique_items = tuple(set(sampleList))\n",
        "min_value = min(unique_items)\n",
        "max_value = max(unique_items)\n",
        "print(\"Unique items:\", unique_items)\n",
        "print(\"Tuple:\", unique_items)\n",
        "print(\"Min:\", min_value)\n",
        "print(\"Max:\", max_value)"
      ],
      "metadata": {
        "colab": {
          "base_uri": "https://localhost:8080/"
        },
        "id": "cDGEWnosLbYC",
        "outputId": "74a08686-aec5-47fc-ba29-af5cb1338d3b"
      },
      "execution_count": 19,
      "outputs": [
        {
          "output_type": "stream",
          "name": "stdout",
          "text": [
            "Unique items: (65, 99, 41, 45, 87, 94)\n",
            "Tuple: (65, 99, 41, 45, 87, 94)\n",
            "Min: 41\n",
            "Max: 99\n"
          ]
        }
      ]
    }
  ]
}